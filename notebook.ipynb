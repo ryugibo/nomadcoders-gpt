{
 "cells": [
  {
   "cell_type": "code",
   "execution_count": 51,
   "metadata": {},
   "outputs": [],
   "source": [
    "from langchain.chat_models import ChatOpenAI\n",
    "from langchain.prompts import ChatPromptTemplate\n",
    "from langchain.prompts.few_shot import FewShotChatMessagePromptTemplate\n",
    "from langchain.callbacks import StreamingStdOutCallbackHandler"
   ]
  },
  {
   "cell_type": "code",
   "execution_count": 52,
   "metadata": {},
   "outputs": [],
   "source": [
    "chat = ChatOpenAI(\n",
    "    temperature=0.1,\n",
    "    streaming=True,\n",
    "    callbacks=[StreamingStdOutCallbackHandler()],\n",
    ")"
   ]
  },
  {
   "cell_type": "code",
   "execution_count": 53,
   "metadata": {},
   "outputs": [],
   "source": [
    "movie_prompt = ChatPromptTemplate.from_messages(\n",
    "    [\n",
    "        (\"system\", \"You are a movie expert, you give short answers.\"),\n",
    "        FewShotChatMessagePromptTemplate(\n",
    "            example_prompt=ChatPromptTemplate.from_messages(\n",
    "                [\n",
    "                    (\"human\", \"What do you know about {movie}?\"),\n",
    "                    (\"ai\", \"{answer}\"),\n",
    "                ]\n",
    "            ),\n",
    "            examples=[\n",
    "                {\n",
    "                    \"movie\": \"다크 나이트\",\n",
    "                    \"answer\": \"감독: 크리스토퍼 놀란\",\n",
    "                },\n",
    "                {\n",
    "                    \"movie\": \"다크 나이트 라이즈\",\n",
    "                    \"answer\": \"감독: 크리스토퍼 놀란\",\n",
    "                },\n",
    "            ],\n",
    "        ),\n",
    "        (\"human\", \"What do you know about {movie}?\"),\n",
    "    ]\n",
    ")\n",
    "\n",
    "chain = movie_prompt | chat"
   ]
  },
  {
   "cell_type": "code",
   "execution_count": 54,
   "metadata": {},
   "outputs": [
    {
     "name": "stdout",
     "output_type": "stream",
     "text": [
      "감독: 봉준호"
     ]
    },
    {
     "data": {
      "text/plain": [
       "AIMessageChunk(content='감독: 봉준호')"
      ]
     },
     "execution_count": 54,
     "metadata": {},
     "output_type": "execute_result"
    }
   ],
   "source": [
    "chain.invoke({\"movie\": \"괴물\"})"
   ]
  },
  {
   "cell_type": "code",
   "execution_count": 61,
   "metadata": {},
   "outputs": [
    {
     "name": "stdout",
     "output_type": "stream",
     "text": [
      "감독: 산디 사이베리, 샘 레이미"
     ]
    },
    {
     "data": {
      "text/plain": [
       "AIMessageChunk(content='감독: 산디 사이베리, 샘 레이미')"
      ]
     },
     "execution_count": 61,
     "metadata": {},
     "output_type": "execute_result"
    }
   ],
   "source": [
    "chain.invoke({\"movie\": \"스파이더 맨\"})"
   ]
  },
  {
   "cell_type": "code",
   "execution_count": 58,
   "metadata": {},
   "outputs": [
    {
     "name": "stdout",
     "output_type": "stream",
     "text": [
      "감독: 조스 웨던"
     ]
    },
    {
     "data": {
      "text/plain": [
       "AIMessageChunk(content='감독: 조스 웨던')"
      ]
     },
     "execution_count": 58,
     "metadata": {},
     "output_type": "execute_result"
    }
   ],
   "source": [
    "chain.invoke({\"movie\": \"어벤져스\"})"
   ]
  },
  {
   "cell_type": "code",
   "execution_count": null,
   "metadata": {},
   "outputs": [],
   "source": []
  }
 ],
 "metadata": {
  "kernelspec": {
   "display_name": "env",
   "language": "python",
   "name": "python3"
  },
  "language_info": {
   "codemirror_mode": {
    "name": "ipython",
    "version": 3
   },
   "file_extension": ".py",
   "mimetype": "text/x-python",
   "name": "python",
   "nbconvert_exporter": "python",
   "pygments_lexer": "ipython3",
   "version": "3.11.8"
  }
 },
 "nbformat": 4,
 "nbformat_minor": 2
}
