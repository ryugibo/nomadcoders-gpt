{
 "cells": [
  {
   "cell_type": "code",
   "execution_count": 1,
   "metadata": {},
   "outputs": [],
   "source": [
    "from langchain.chat_models import ChatOpenAI\n",
    "from langchain.prompts import ChatPromptTemplate\n",
    "from langchain.callbacks import StreamingStdOutCallbackHandler"
   ]
  },
  {
   "cell_type": "code",
   "execution_count": 2,
   "metadata": {},
   "outputs": [],
   "source": [
    "chat = ChatOpenAI(\n",
    "    temperature=0.1,\n",
    "    streaming=True,\n",
    "    callbacks=[StreamingStdOutCallbackHandler()],\n",
    ")"
   ]
  },
  {
   "cell_type": "code",
   "execution_count": 3,
   "metadata": {},
   "outputs": [],
   "source": [
    "haiku_writer_prompt = ChatPromptTemplate.from_messages([\n",
    "  (\"system\", \"You are specialist in writing Haikus about programming language.\"),\n",
    "  (\"human\", \"I want to read haiku about {language}.\"),\n",
    "])\n",
    "\n",
    "haiku_writer_chain = haiku_writer_prompt | chat"
   ]
  },
  {
   "cell_type": "code",
   "execution_count": 7,
   "metadata": {},
   "outputs": [],
   "source": [
    "haiku_curator_prompt = ChatPromptTemplate.from_messages([\n",
    "  (\"system\", \"You are Haiku teacher specialized on explain Haiku about programming language. you explain haiku.\"),\n",
    "  (\"human\", \"{haiku}.\"),\n",
    "])\n",
    "\n",
    "haiku_curator_chain = haiku_curator_prompt | chat"
   ]
  },
  {
   "cell_type": "code",
   "execution_count": 8,
   "metadata": {},
   "outputs": [
    {
     "name": "stdout",
     "output_type": "stream",
     "text": [
      "Elixir's magic,\n",
      "Functional spells woven strong,\n",
      "Concurrency dance.This Haiku beautifully captures the essence of Elixir, a programming language known for its functional programming paradigm and powerful concurrency features. The first line sets the stage by referring to Elixir as \"magic,\" hinting at its mystical and transformative qualities. The second line highlights the elegance and strength of Elixir's functional programming capabilities, likening them to spells being woven together. Finally, the third line paints a vivid picture of the dynamic and harmonious interplay of concurrent processes in Elixir, described as a \"dance.\" Overall, this Haiku effectively conveys the essence of Elixir as a language that empowers developers to create robust and scalable systems through its unique features."
     ]
    },
    {
     "data": {
      "text/plain": [
       "AIMessageChunk(content='This Haiku beautifully captures the essence of Elixir, a programming language known for its functional programming paradigm and powerful concurrency features. The first line sets the stage by referring to Elixir as \"magic,\" hinting at its mystical and transformative qualities. The second line highlights the elegance and strength of Elixir\\'s functional programming capabilities, likening them to spells being woven together. Finally, the third line paints a vivid picture of the dynamic and harmonious interplay of concurrent processes in Elixir, described as a \"dance.\" Overall, this Haiku effectively conveys the essence of Elixir as a language that empowers developers to create robust and scalable systems through its unique features.')"
      ]
     },
     "execution_count": 8,
     "metadata": {},
     "output_type": "execute_result"
    }
   ],
   "source": [
    "haiku_chain = {\"haiku\": haiku_writer_chain} | haiku_curator_chain\n",
    "\n",
    "haiku_chain.invoke({\"language\": \"elixir\"})"
   ]
  }
 ],
 "metadata": {
  "kernelspec": {
   "display_name": "env",
   "language": "python",
   "name": "python3"
  },
  "language_info": {
   "codemirror_mode": {
    "name": "ipython",
    "version": 3
   },
   "file_extension": ".py",
   "mimetype": "text/x-python",
   "name": "python",
   "nbconvert_exporter": "python",
   "pygments_lexer": "ipython3",
   "version": "3.11.8"
  }
 },
 "nbformat": 4,
 "nbformat_minor": 2
}
