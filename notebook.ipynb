{
 "cells": [
  {
   "cell_type": "code",
   "execution_count": 1,
   "metadata": {},
   "outputs": [],
   "source": [
    "from langchain.chat_models import ChatOpenAI\n",
    "from langchain.prompts import ChatPromptTemplate\n",
    "from langchain.callbacks import StreamingStdOutCallbackHandler"
   ]
  },
  {
   "cell_type": "code",
   "execution_count": 2,
   "metadata": {},
   "outputs": [],
   "source": [
    "chat = ChatOpenAI(\n",
    "    temperature=0.1,\n",
    "    streaming=True,\n",
    "    callbacks=[StreamingStdOutCallbackHandler()],\n",
    ")"
   ]
  },
  {
   "cell_type": "code",
   "execution_count": 3,
   "metadata": {},
   "outputs": [],
   "source": [
    "haiku_writer_prompt = ChatPromptTemplate.from_messages([\n",
    "  (\"system\", \"You are specialist in writing Haikus about programming language.\"),\n",
    "  (\"human\", \"I want to read haiku about {language}.\"),\n",
    "])\n",
    "\n",
    "haiku_writer_chain = haiku_writer_prompt | chat"
   ]
  },
  {
   "cell_type": "code",
   "execution_count": 12,
   "metadata": {},
   "outputs": [],
   "source": [
    "haiku_curator_prompt = ChatPromptTemplate.from_messages([\n",
    "  (\"system\", \"You are Haiku teacher specialized on explain Haiku about programming language. You show me haiku and explain that. And before answer show me whole Haiku.\"),\n",
    "  (\"human\", \"{haiku}.\"),\n",
    "])\n",
    "\n",
    "haiku_curator_chain = haiku_curator_prompt | chat"
   ]
  },
  {
   "cell_type": "code",
   "execution_count": 13,
   "metadata": {},
   "outputs": [
    {
     "name": "stdout",
     "output_type": "stream",
     "text": [
      "Elixir's magic,\n",
      "Functional and concise,\n",
      "Code flows like a stream.Elixir's magic,\n",
      "Functional and concise,\n",
      "Code flows like a stream.\n",
      "\n",
      "In this haiku, the poet is describing the programming language Elixir. The first line \"Elixir's magic\" captures the essence of Elixir being a powerful and versatile language. The second line \"Functional and concise\" highlights Elixir's functional programming paradigm and its ability to write clean and succinct code. The final line \"Code flows like a stream\" suggests that writing code in Elixir is smooth and effortless, much like a stream flowing gracefully. Overall, the haiku conveys the elegance and efficiency of programming in Elixir."
     ]
    },
    {
     "data": {
      "text/plain": [
       "AIMessageChunk(content='Elixir\\'s magic,\\nFunctional and concise,\\nCode flows like a stream.\\n\\nIn this haiku, the poet is describing the programming language Elixir. The first line \"Elixir\\'s magic\" captures the essence of Elixir being a powerful and versatile language. The second line \"Functional and concise\" highlights Elixir\\'s functional programming paradigm and its ability to write clean and succinct code. The final line \"Code flows like a stream\" suggests that writing code in Elixir is smooth and effortless, much like a stream flowing gracefully. Overall, the haiku conveys the elegance and efficiency of programming in Elixir.')"
      ]
     },
     "execution_count": 13,
     "metadata": {},
     "output_type": "execute_result"
    }
   ],
   "source": [
    "haiku_chain = {\"haiku\": haiku_writer_chain} | haiku_curator_chain\n",
    "\n",
    "haiku_chain.invoke({\"language\": \"elixir\"})"
   ]
  }
 ],
 "metadata": {
  "kernelspec": {
   "display_name": "env",
   "language": "python",
   "name": "python3"
  },
  "language_info": {
   "codemirror_mode": {
    "name": "ipython",
    "version": 3
   },
   "file_extension": ".py",
   "mimetype": "text/x-python",
   "name": "python",
   "nbconvert_exporter": "python",
   "pygments_lexer": "ipython3",
   "version": "3.11.8"
  }
 },
 "nbformat": 4,
 "nbformat_minor": 2
}
