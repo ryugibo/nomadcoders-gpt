{
 "cells": [
  {
   "cell_type": "code",
   "execution_count": 1,
   "metadata": {},
   "outputs": [],
   "source": [
    "from langchain.chat_models import ChatOpenAI\n",
    "from langchain.prompts import ChatPromptTemplate, MessagesPlaceholder\n",
    "from langchain.prompts.few_shot import FewShotChatMessagePromptTemplate\n",
    "from langchain.callbacks import StreamingStdOutCallbackHandler\n",
    "from langchain.memory import ConversationBufferMemory\n",
    "from langchain.schema.runnable import RunnablePassthrough \n",
    "from langchain.chains import LLMChain"
   ]
  },
  {
   "cell_type": "code",
   "execution_count": 2,
   "metadata": {},
   "outputs": [],
   "source": [
    "memory = ConversationBufferMemory(return_messages=True, memory_key=\"history\")\n",
    "\n",
    "chat = ChatOpenAI(\n",
    "    temperature=0.1,\n",
    "    streaming=True,\n",
    "    callbacks=[StreamingStdOutCallbackHandler()],\n",
    ")"
   ]
  },
  {
   "cell_type": "code",
   "execution_count": 3,
   "metadata": {},
   "outputs": [],
   "source": [
    "movie_emoji_prompt = ChatPromptTemplate.from_messages(\n",
    "    [\n",
    "        (\n",
    "            \"system\",\n",
    "            \"당신은 영화 전문가입니다.\",\n",
    "        ),\n",
    "        FewShotChatMessagePromptTemplate(\n",
    "            example_prompt=ChatPromptTemplate.from_messages(\n",
    "                [\n",
    "                    (\"human\", \"{movie}\"),\n",
    "                    (\"ai\", \"{answer}\"),\n",
    "                ]\n",
    "            ),\n",
    "            examples=[\n",
    "                {\n",
    "                    \"movie\": \"다크 나이트\",\n",
    "                    \"answer\": \"🦇💥🤡\",\n",
    "                },\n",
    "                {\n",
    "                    \"movie\": \"다크 나이트 라이즈\",\n",
    "                    \"answer\": \"🦇💥😷\",\n",
    "                },\n",
    "            ],\n",
    "        ),\n",
    "        (\"human\", \"{movie}\"),\n",
    "    ]\n",
    ")\n",
    "\n",
    "\n",
    "def invoke_movie_chain(movie: str):\n",
    "    chain = movie_emoji_prompt | chat\n",
    "    result = chain.invoke({\"movie\": movie})\n",
    "    memory.save_context({\"input\": movie}, {\"output\": result.content})\n",
    "    return result"
   ]
  },
  {
   "cell_type": "code",
   "execution_count": 4,
   "metadata": {},
   "outputs": [
    {
     "name": "stdout",
     "output_type": "stream",
     "text": [
      "✈️🔥🕶️"
     ]
    },
    {
     "data": {
      "text/plain": [
       "AIMessageChunk(content='✈️🔥🕶️')"
      ]
     },
     "execution_count": 4,
     "metadata": {},
     "output_type": "execute_result"
    }
   ],
   "source": [
    "invoke_movie_chain(\"탑건\")"
   ]
  },
  {
   "cell_type": "code",
   "execution_count": 6,
   "metadata": {},
   "outputs": [
    {
     "name": "stdout",
     "output_type": "stream",
     "text": [
      "🍊🔫💰"
     ]
    },
    {
     "data": {
      "text/plain": [
       "AIMessageChunk(content='🍊🔫💰')"
      ]
     },
     "execution_count": 6,
     "metadata": {},
     "output_type": "execute_result"
    }
   ],
   "source": [
    "invoke_movie_chain(\"대부\")"
   ]
  },
  {
   "cell_type": "code",
   "execution_count": 7,
   "metadata": {},
   "outputs": [
    {
     "data": {
      "text/plain": [
       "{'history': [HumanMessage(content='탑건'),\n",
       "  AIMessage(content='✈️🔥🕶️'),\n",
       "  HumanMessage(content='대부'),\n",
       "  AIMessage(content='🍊🔫💰')]}"
      ]
     },
     "execution_count": 7,
     "metadata": {},
     "output_type": "execute_result"
    }
   ],
   "source": [
    "memory.load_memory_variables({})"
   ]
  },
  {
   "cell_type": "code",
   "execution_count": 8,
   "metadata": {},
   "outputs": [],
   "source": [
    "emoji_movie_chain = RunnablePassthrough.assign(\n",
    "    history=lambda _input: memory.load_memory_variables({})[\"history\"]\n",
    ") | LLMChain(\n",
    "    llm=chat,\n",
    "    prompt=ChatPromptTemplate.from_messages(\n",
    "        [\n",
    "            MessagesPlaceholder(variable_name=\"history\"),\n",
    "            (\"human\", \"{question}\"),\n",
    "        ]\n",
    "    ),\n",
    "    memory=memory,\n",
    ")"
   ]
  },
  {
   "cell_type": "code",
   "execution_count": 9,
   "metadata": {},
   "outputs": [
    {
     "name": "stdout",
     "output_type": "stream",
     "text": [
      "\"탑건\"입니다!"
     ]
    },
    {
     "data": {
      "text/plain": [
       "{'question': '니가 ✈️🔥🕶️로 대답했던 영화가 뭐야?',\n",
       " 'history': [HumanMessage(content='탑건'),\n",
       "  AIMessage(content='✈️🔥🕶️'),\n",
       "  HumanMessage(content='대부'),\n",
       "  AIMessage(content='🍊🔫💰'),\n",
       "  HumanMessage(content='니가 ✈️🔥🕶️로 대답했던 영화가 뭐야?'),\n",
       "  AIMessage(content='\"탑건\"입니다!')],\n",
       " 'text': '\"탑건\"입니다!'}"
      ]
     },
     "execution_count": 9,
     "metadata": {},
     "output_type": "execute_result"
    }
   ],
   "source": [
    "emoji_movie_chain.invoke({\"question\": \"니가 ✈️🔥🕶️로 대답했던 영화가 뭐야?\"})"
   ]
  },
  {
   "cell_type": "code",
   "execution_count": 10,
   "metadata": {},
   "outputs": [
    {
     "name": "stderr",
     "output_type": "stream",
     "text": [
      "Retrying langchain.chat_models.openai.ChatOpenAI.completion_with_retry.<locals>._completion_with_retry in 4.0 seconds as it raised RateLimitError: Rate limit reached for gpt-3.5-turbo in organization org-RmC8JUwxAKbZjSNRrAHiavnt on requests per min (RPM): Limit 3, Used 3, Requested 1. Please try again in 20s. Visit https://platform.openai.com/account/rate-limits to learn more. You can increase your rate limit by adding a payment method to your account at https://platform.openai.com/account/billing..\n"
     ]
    },
    {
     "name": "stdout",
     "output_type": "stream",
     "text": [
      "\"대부\"입니다!"
     ]
    },
    {
     "data": {
      "text/plain": [
       "{'question': '니가 🍊🔫💰로 대답했던 영화가 뭐야?',\n",
       " 'history': [HumanMessage(content='탑건'),\n",
       "  AIMessage(content='✈️🔥🕶️'),\n",
       "  HumanMessage(content='대부'),\n",
       "  AIMessage(content='🍊🔫💰'),\n",
       "  HumanMessage(content='니가 ✈️🔥🕶️로 대답했던 영화가 뭐야?'),\n",
       "  AIMessage(content='\"탑건\"입니다!'),\n",
       "  HumanMessage(content='니가 🍊🔫💰로 대답했던 영화가 뭐야?'),\n",
       "  AIMessage(content='\"대부\"입니다!')],\n",
       " 'text': '\"대부\"입니다!'}"
      ]
     },
     "execution_count": 10,
     "metadata": {},
     "output_type": "execute_result"
    }
   ],
   "source": [
    "emoji_movie_chain.invoke({\"question\": \"니가 🍊🔫💰로 대답했던 영화가 뭐야?\"})"
   ]
  },
  {
   "cell_type": "code",
   "execution_count": null,
   "metadata": {},
   "outputs": [],
   "source": []
  }
 ],
 "metadata": {
  "kernelspec": {
   "display_name": "env",
   "language": "python",
   "name": "python3"
  },
  "language_info": {
   "codemirror_mode": {
    "name": "ipython",
    "version": 3
   },
   "file_extension": ".py",
   "mimetype": "text/x-python",
   "name": "python",
   "nbconvert_exporter": "python",
   "pygments_lexer": "ipython3",
   "version": "3.11.8"
  }
 },
 "nbformat": 4,
 "nbformat_minor": 2
}
